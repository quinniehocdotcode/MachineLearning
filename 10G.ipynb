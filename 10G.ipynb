{
 "cells": [
  {
   "cell_type": "code",
   "execution_count": 8,
   "metadata": {},
   "outputs": [],
   "source": [
    "import os\n",
    "import tensorflow as tf\n"
   ]
  },
  {
   "cell_type": "code",
   "execution_count": 9,
   "metadata": {},
   "outputs": [
    {
     "name": "stdout",
     "output_type": "stream",
     "text": [
      "FruitQQ/fruits-360/Training\\cherry 1\n"
     ]
    },
    {
     "data": {
      "text/plain": [
       "list"
      ]
     },
     "execution_count": 9,
     "metadata": {},
     "output_type": "execute_result"
    }
   ],
   "source": [
    "FruitQQ/fruits-360/Trainingparent_dir = ''\n",
    "directories = ['cherry 1','cherry 2']\n",
    "\n",
    "path = os.path.join(parent_dir, directories[0])\n",
    "print(path)\n",
    "type(os.listdir(path))\n",
    "# C:\\Users\\tahon\\Desktop\\File Code\\BeHocPyhon\\Keras\\FruitQQ\\fruits-360\n"
   ]
  },
  {
   "cell_type": "code",
   "execution_count": 19,
   "metadata": {},
   "outputs": [
    {
     "name": "stdout",
     "output_type": "stream",
     "text": [
      "Thư mục 'FruitQQ/fruits-360/Training/cherry 1' đã tồn tại.\n"
     ]
    }
   ],
   "source": [
    "\n",
    "\n",
    "import shutil\n",
    "# Đường dẫn đến thư mục bạn muốn tạo\n",
    "directory = \"FruitQQ/fruits-360/Training/cherry 1\"\n",
    "\n",
    "shutil.copytree(directory, 'gi')\n",
    "# Tạo thư mục\n",
    "try:\n",
    "    os.mkdir(directory)\n",
    "    print(f\"Thư mục '{directory}' đã được tạo thành công!\")\n",
    "except FileExistsError:\n",
    "    print(f\"Thư mục '{directory}' đã tồn tại.\")\n",
    "except Exception as e:\n",
    "    print(f\"Có lỗi xảy ra: {e}\")"
   ]
  }
 ],
 "metadata": {
  "kernelspec": {
   "display_name": "Python 3",
   "language": "python",
   "name": "python3"
  },
  "language_info": {
   "codemirror_mode": {
    "name": "ipython",
    "version": 3
   },
   "file_extension": ".py",
   "mimetype": "text/x-python",
   "name": "python",
   "nbconvert_exporter": "python",
   "pygments_lexer": "ipython3",
   "version": "3.12.4"
  }
 },
 "nbformat": 4,
 "nbformat_minor": 2
}
